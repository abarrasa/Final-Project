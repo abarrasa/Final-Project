{
 "cells": [
  {
   "cell_type": "code",
   "execution_count": 25,
   "id": "b73ecaa0",
   "metadata": {},
   "outputs": [],
   "source": [
    "import osmnx as ox\n",
    "import pandas as pd\n",
    "import geocoder\n",
    "from geopy.geocoders import Nominatim\n",
    "import folium\n",
    "from folium.plugins import MarkerCluster\n",
    "import streamlit as st\n",
    "from streamlit_folium import folium_static\n",
    "import matplotlib.pyplot as plt \n",
    "import warnings\n",
    "warnings.filterwarnings('ignore')"
   ]
  },
  {
   "cell_type": "code",
   "execution_count": 26,
   "id": "bec0166c",
   "metadata": {},
   "outputs": [],
   "source": [
    "price_today= pd.read_excel('price_today.xlsx')\n",
    "df_acum= pd.read_excel('df_definitivo.xlsx')"
   ]
  },
  {
   "cell_type": "code",
   "execution_count": 27,
   "id": "b2ffb60c",
   "metadata": {},
   "outputs": [
    {
     "name": "stdout",
     "output_type": "stream",
     "text": [
      "(40.4402741, -3.6610318)\n"
     ]
    }
   ],
   "source": [
    "geolocator = Nominatim(user_agent=\"My-App\")\n",
    "location = geolocator.geocode(\"Avenida Brasilia, 27, Madrid\") \n",
    "\n",
    "print((location.latitude, location.longitude))"
   ]
  },
  {
   "cell_type": "code",
   "execution_count": 28,
   "id": "60505c90",
   "metadata": {},
   "outputs": [
    {
     "data": {
      "text/plain": [
       "geopy.location.Location"
      ]
     },
     "execution_count": 28,
     "metadata": {},
     "output_type": "execute_result"
    }
   ],
   "source": [
    "type(location)"
   ]
  },
  {
   "cell_type": "code",
   "execution_count": 29,
   "id": "d78d24b0",
   "metadata": {},
   "outputs": [
    {
     "data": {
      "text/plain": [
       "{'REPSOL': 'REPSOL.png', 'CEPSA': 'CEPSA.png'}"
      ]
     },
     "execution_count": 29,
     "metadata": {},
     "output_type": "execute_result"
    }
   ],
   "source": [
    "diccionario={'REPSOL': 'REPSOL.png', 'CEPSA': 'CEPSA.png'}\n",
    "diccionario\n"
   ]
  },
  {
   "cell_type": "code",
   "execution_count": 30,
   "id": "64654fb7",
   "metadata": {},
   "outputs": [
    {
     "data": {
      "text/html": [
       "<div>\n",
       "<style scoped>\n",
       "    .dataframe tbody tr th:only-of-type {\n",
       "        vertical-align: middle;\n",
       "    }\n",
       "\n",
       "    .dataframe tbody tr th {\n",
       "        vertical-align: top;\n",
       "    }\n",
       "\n",
       "    .dataframe thead th {\n",
       "        text-align: right;\n",
       "    }\n",
       "</style>\n",
       "<table border=\"1\" class=\"dataframe\">\n",
       "  <thead>\n",
       "    <tr style=\"text-align: right;\">\n",
       "      <th></th>\n",
       "      <th>Provincia</th>\n",
       "      <th>Municipio</th>\n",
       "      <th>Localidad</th>\n",
       "      <th>Código postal</th>\n",
       "      <th>Dirección</th>\n",
       "      <th>Longitud</th>\n",
       "      <th>Latitud</th>\n",
       "      <th>Precio gasolina 95 E5</th>\n",
       "      <th>Precio gasolina 95 E5 Premium</th>\n",
       "      <th>Precio gasolina 98 E5</th>\n",
       "      <th>Precio gasóleo A</th>\n",
       "      <th>Precio gasóleo Premium</th>\n",
       "      <th>Rótulo</th>\n",
       "      <th>Horario</th>\n",
       "      <th>Fecha de extracción</th>\n",
       "      <th>Latitud_partida</th>\n",
       "      <th>Longitud_partida</th>\n",
       "      <th>mercator_start</th>\n",
       "      <th>mercator_finish</th>\n",
       "      <th>Distance</th>\n",
       "    </tr>\n",
       "  </thead>\n",
       "  <tbody>\n",
       "    <tr>\n",
       "      <th>6683</th>\n",
       "      <td>MADRID</td>\n",
       "      <td>Madrid</td>\n",
       "      <td>MADRID</td>\n",
       "      <td>28028</td>\n",
       "      <td>CALLE BERLIN, S/N, S/N</td>\n",
       "      <td>-3.664333</td>\n",
       "      <td>40.441222</td>\n",
       "      <td>1,875</td>\n",
       "      <td>No disponible</td>\n",
       "      <td>No disponible</td>\n",
       "      <td>1,880</td>\n",
       "      <td>1,941</td>\n",
       "      <td>CEPSA</td>\n",
       "      <td>L-D: 07:00-21:30</td>\n",
       "      <td>24-04-2022</td>\n",
       "      <td>40.440274</td>\n",
       "      <td>-3.661032</td>\n",
       "      <td>POINT (4501790.72035241 -407821.8017149498)</td>\n",
       "      <td>POINT (4501896.240097732 -408190.0417713508)</td>\n",
       "      <td>383.060251</td>\n",
       "    </tr>\n",
       "    <tr>\n",
       "      <th>6682</th>\n",
       "      <td>MADRID</td>\n",
       "      <td>Madrid</td>\n",
       "      <td>MADRID</td>\n",
       "      <td>28028</td>\n",
       "      <td>AVENIDA DE LOS TOREROS, S/N</td>\n",
       "      <td>-3.661944</td>\n",
       "      <td>40.434306</td>\n",
       "      <td>1,875</td>\n",
       "      <td>No disponible</td>\n",
       "      <td>No disponible</td>\n",
       "      <td>1,880</td>\n",
       "      <td>1,941</td>\n",
       "      <td>CEPSA</td>\n",
       "      <td>L-S: 07:00-21:00; D: 9:00-14:00</td>\n",
       "      <td>24-04-2022</td>\n",
       "      <td>40.440274</td>\n",
       "      <td>-3.661032</td>\n",
       "      <td>POINT (4501790.72035241 -407821.8017149498)</td>\n",
       "      <td>POINT (4501126.354499406 -407923.5550565211)</td>\n",
       "      <td>672.112884</td>\n",
       "    </tr>\n",
       "    <tr>\n",
       "      <th>6689</th>\n",
       "      <td>MADRID</td>\n",
       "      <td>Madrid</td>\n",
       "      <td>MADRID</td>\n",
       "      <td>28002</td>\n",
       "      <td>CALLE CORAZON DE MARIA, 11</td>\n",
       "      <td>-3.669500</td>\n",
       "      <td>40.441611</td>\n",
       "      <td>1,919</td>\n",
       "      <td>No disponible</td>\n",
       "      <td>No disponible</td>\n",
       "      <td>1,949</td>\n",
       "      <td>1,999</td>\n",
       "      <td>CEPSA</td>\n",
       "      <td>L-V: 07:00-19:00; S: 09:00-15:00</td>\n",
       "      <td>24-04-2022</td>\n",
       "      <td>40.440274</td>\n",
       "      <td>-3.661032</td>\n",
       "      <td>POINT (4501790.72035241 -407821.8017149498)</td>\n",
       "      <td>POINT (4501939.543379651 -408766.409570259)</td>\n",
       "      <td>956.259533</td>\n",
       "    </tr>\n",
       "  </tbody>\n",
       "</table>\n",
       "</div>"
      ],
      "text/plain": [
       "     Provincia Municipio Localidad  Código postal  \\\n",
       "6683    MADRID    Madrid    MADRID          28028   \n",
       "6682    MADRID    Madrid    MADRID          28028   \n",
       "6689    MADRID    Madrid    MADRID          28002   \n",
       "\n",
       "                        Dirección  Longitud    Latitud Precio gasolina 95 E5  \\\n",
       "6683       CALLE BERLIN, S/N, S/N -3.664333  40.441222                 1,875   \n",
       "6682  AVENIDA DE LOS TOREROS, S/N -3.661944  40.434306                 1,875   \n",
       "6689   CALLE CORAZON DE MARIA, 11 -3.669500  40.441611                 1,919   \n",
       "\n",
       "     Precio gasolina 95 E5 Premium Precio gasolina 98 E5 Precio gasóleo A  \\\n",
       "6683                 No disponible         No disponible            1,880   \n",
       "6682                 No disponible         No disponible            1,880   \n",
       "6689                 No disponible         No disponible            1,949   \n",
       "\n",
       "     Precio gasóleo Premium Rótulo                           Horario  \\\n",
       "6683                  1,941  CEPSA                  L-D: 07:00-21:30   \n",
       "6682                  1,941  CEPSA   L-S: 07:00-21:00; D: 9:00-14:00   \n",
       "6689                  1,999  CEPSA  L-V: 07:00-19:00; S: 09:00-15:00   \n",
       "\n",
       "     Fecha de extracción  Latitud_partida  Longitud_partida  \\\n",
       "6683          24-04-2022        40.440274         -3.661032   \n",
       "6682          24-04-2022        40.440274         -3.661032   \n",
       "6689          24-04-2022        40.440274         -3.661032   \n",
       "\n",
       "                                   mercator_start  \\\n",
       "6683  POINT (4501790.72035241 -407821.8017149498)   \n",
       "6682  POINT (4501790.72035241 -407821.8017149498)   \n",
       "6689  POINT (4501790.72035241 -407821.8017149498)   \n",
       "\n",
       "                                   mercator_finish    Distance  \n",
       "6683  POINT (4501896.240097732 -408190.0417713508)  383.060251  \n",
       "6682  POINT (4501126.354499406 -407923.5550565211)  672.112884  \n",
       "6689   POINT (4501939.543379651 -408766.409570259)  956.259533  "
      ]
     },
     "execution_count": 30,
     "metadata": {},
     "output_type": "execute_result"
    }
   ],
   "source": [
    "price_today = price_today.sort_values('Distance')\n",
    "price_head=price_today.head(3)\n",
    "price_head"
   ]
  },
  {
   "cell_type": "code",
   "execution_count": 47,
   "id": "fb2b6930",
   "metadata": {
    "scrolled": true
   },
   "outputs": [
    {
     "data": {
      "text/html": [
       "<div style=\"width:100%;\"><div style=\"position:relative;width:100%;height:0;padding-bottom:60%;\"><span style=\"color:#565656\">Make this Notebook Trusted to load map: File -> Trust Notebook</span><iframe srcdoc=\"&lt;!DOCTYPE html&gt;\n",
       "&lt;head&gt;    \n",
       "    &lt;meta http-equiv=&quot;content-type&quot; content=&quot;text/html; charset=UTF-8&quot; /&gt;\n",
       "    \n",
       "        &lt;script&gt;\n",
       "            L_NO_TOUCH = false;\n",
       "            L_DISABLE_3D = false;\n",
       "        &lt;/script&gt;\n",
       "    \n",
       "    &lt;style&gt;html, body {width: 100%;height: 100%;margin: 0;padding: 0;}&lt;/style&gt;\n",
       "    &lt;style&gt;#map {position:absolute;top:0;bottom:0;right:0;left:0;}&lt;/style&gt;\n",
       "    &lt;script src=&quot;https://cdn.jsdelivr.net/npm/leaflet@1.6.0/dist/leaflet.js&quot;&gt;&lt;/script&gt;\n",
       "    &lt;script src=&quot;https://code.jquery.com/jquery-1.12.4.min.js&quot;&gt;&lt;/script&gt;\n",
       "    &lt;script src=&quot;https://maxcdn.bootstrapcdn.com/bootstrap/3.2.0/js/bootstrap.min.js&quot;&gt;&lt;/script&gt;\n",
       "    &lt;script src=&quot;https://cdnjs.cloudflare.com/ajax/libs/Leaflet.awesome-markers/2.0.2/leaflet.awesome-markers.js&quot;&gt;&lt;/script&gt;\n",
       "    &lt;link rel=&quot;stylesheet&quot; href=&quot;https://cdn.jsdelivr.net/npm/leaflet@1.6.0/dist/leaflet.css&quot;/&gt;\n",
       "    &lt;link rel=&quot;stylesheet&quot; href=&quot;https://maxcdn.bootstrapcdn.com/bootstrap/3.2.0/css/bootstrap.min.css&quot;/&gt;\n",
       "    &lt;link rel=&quot;stylesheet&quot; href=&quot;https://maxcdn.bootstrapcdn.com/bootstrap/3.2.0/css/bootstrap-theme.min.css&quot;/&gt;\n",
       "    &lt;link rel=&quot;stylesheet&quot; href=&quot;https://maxcdn.bootstrapcdn.com/font-awesome/4.6.3/css/font-awesome.min.css&quot;/&gt;\n",
       "    &lt;link rel=&quot;stylesheet&quot; href=&quot;https://cdnjs.cloudflare.com/ajax/libs/Leaflet.awesome-markers/2.0.2/leaflet.awesome-markers.css&quot;/&gt;\n",
       "    &lt;link rel=&quot;stylesheet&quot; href=&quot;https://cdn.jsdelivr.net/gh/python-visualization/folium/folium/templates/leaflet.awesome.rotate.min.css&quot;/&gt;\n",
       "    \n",
       "            &lt;meta name=&quot;viewport&quot; content=&quot;width=device-width,\n",
       "                initial-scale=1.0, maximum-scale=1.0, user-scalable=no&quot; /&gt;\n",
       "            &lt;style&gt;\n",
       "                #map_ac79ce3ec512283647cac658f363414f {\n",
       "                    position: relative;\n",
       "                    width: 100.0%;\n",
       "                    height: 100.0%;\n",
       "                    left: 0.0%;\n",
       "                    top: 0.0%;\n",
       "                }\n",
       "            &lt;/style&gt;\n",
       "        \n",
       "&lt;/head&gt;\n",
       "&lt;body&gt;    \n",
       "    \n",
       "            &lt;div class=&quot;folium-map&quot; id=&quot;map_ac79ce3ec512283647cac658f363414f&quot; &gt;&lt;/div&gt;\n",
       "        \n",
       "&lt;/body&gt;\n",
       "&lt;script&gt;    \n",
       "    \n",
       "            var map_ac79ce3ec512283647cac658f363414f = L.map(\n",
       "                &quot;map_ac79ce3ec512283647cac658f363414f&quot;,\n",
       "                {\n",
       "                    center: [40.546376, -3.638541],\n",
       "                    crs: L.CRS.EPSG3857,\n",
       "                    zoom: 15,\n",
       "                    zoomControl: true,\n",
       "                    preferCanvas: false,\n",
       "                }\n",
       "            );\n",
       "\n",
       "            \n",
       "\n",
       "        \n",
       "    \n",
       "            var tile_layer_aafde86801ec7cc3095486b86c63dcd6 = L.tileLayer(\n",
       "                &quot;https://{s}.tile.openstreetmap.org/{z}/{x}/{y}.png&quot;,\n",
       "                {&quot;attribution&quot;: &quot;Data by \\u0026copy; \\u003ca href=\\&quot;http://openstreetmap.org\\&quot;\\u003eOpenStreetMap\\u003c/a\\u003e, under \\u003ca href=\\&quot;http://www.openstreetmap.org/copyright\\&quot;\\u003eODbL\\u003c/a\\u003e.&quot;, &quot;detectRetina&quot;: false, &quot;maxNativeZoom&quot;: 18, &quot;maxZoom&quot;: 18, &quot;minZoom&quot;: 0, &quot;noWrap&quot;: false, &quot;opacity&quot;: 1, &quot;subdomains&quot;: &quot;abc&quot;, &quot;tms&quot;: false}\n",
       "            ).addTo(map_ac79ce3ec512283647cac658f363414f);\n",
       "        \n",
       "    \n",
       "            var marker_85cf36a6839de0af6c64975ce24b0a92 = L.marker(\n",
       "                [40.441222, -3.664333],\n",
       "                {}\n",
       "            ).addTo(map_ac79ce3ec512283647cac658f363414f);\n",
       "        \n",
       "    \n",
       "            var icon_3ff19228bbd08090247ee2ee9d9f1172 = L.AwesomeMarkers.icon(\n",
       "                {&quot;extraClasses&quot;: &quot;fa-rotate-0&quot;, &quot;icon&quot;: &quot;ok-sign&quot;, &quot;iconColor&quot;: &quot;white&quot;, &quot;markerColor&quot;: &quot;green&quot;, &quot;prefix&quot;: &quot;glyphicon&quot;}\n",
       "            );\n",
       "            marker_85cf36a6839de0af6c64975ce24b0a92.setIcon(icon_3ff19228bbd08090247ee2ee9d9f1172);\n",
       "        \n",
       "    \n",
       "        var popup_d0cdbf1bf705237edddaf9366360212a = L.popup({&quot;maxWidth&quot;: 2650});\n",
       "\n",
       "        \n",
       "            var i_frame_119dfb16d7ff2b383c49105048836fea = $(`&lt;iframe src=&quot;data:text/html;charset=utf-8;base64,CiAgICAKICAgICAgICAgICAgPGRpdiBzdHlsZT0iZm9udC1mYW1pbHk6IGFyaWFsOyBjb2xvcjogYmxhY2siPgogICAgICAgICAgICA8aD48Yj4gQ0VQU0E8L2g+PC9iPgogICAgICAgICAgICA8cD5QcmljZXM6PC9wPgogICAgICAgICAgICAgICAgPGxpPiBHYXNvbGluYSA5NToxLDg3NSDigqw8L2xpPgogICAgICAgICAgICAgICAgPGxpPiBEacOpc2VsOjEsODgwIOKCrDwvbGk+CiAgICAgICAgICAgIDxwPjxiPkRpcmVjY2nDs246PC9iPjwvcD4KICAgICAgICAgICAgPHA+Q0FMTEUgQkVSTElOLCBTL04sIFMvTjwvcD4KICAgICAgICAgICAgPC91bD4gCiAgICAgICAgICAgIDwvcD4KICAgICAgICAgICAgPGltZyBzcmM9Im15X3Bsb3RfbmFtZS5wbmciPgogICAgICAgICAgICA8cD5BbmQgdGhhdCdzIGEgPGEgaHJlZj0iaHR0cHM6Ly93d3cucHl0aG9uLWdyYXBoLWdhbGxlcnkuY29tIj5saW5rPC9hPjwvcD48L2Rpdj4KICAgICAgICAgICAg&quot; width=&quot;200&quot; style=&quot;border:none !important;&quot; height=&quot;200&quot;&gt;&lt;/iframe&gt;`)[0];\n",
       "            popup_d0cdbf1bf705237edddaf9366360212a.setContent(i_frame_119dfb16d7ff2b383c49105048836fea);\n",
       "        \n",
       "\n",
       "        marker_85cf36a6839de0af6c64975ce24b0a92.bindPopup(popup_d0cdbf1bf705237edddaf9366360212a)\n",
       "        ;\n",
       "\n",
       "        \n",
       "    \n",
       "    \n",
       "            var marker_f7af93eb5a278f94a6ad3f0753c16743 = L.marker(\n",
       "                [40.434306, -3.661944],\n",
       "                {}\n",
       "            ).addTo(map_ac79ce3ec512283647cac658f363414f);\n",
       "        \n",
       "    \n",
       "            var icon_7fb8afc5c8cbeb3dfd2ff246438870e7 = L.AwesomeMarkers.icon(\n",
       "                {&quot;extraClasses&quot;: &quot;fa-rotate-0&quot;, &quot;icon&quot;: &quot;ok-sign&quot;, &quot;iconColor&quot;: &quot;white&quot;, &quot;markerColor&quot;: &quot;green&quot;, &quot;prefix&quot;: &quot;glyphicon&quot;}\n",
       "            );\n",
       "            marker_f7af93eb5a278f94a6ad3f0753c16743.setIcon(icon_7fb8afc5c8cbeb3dfd2ff246438870e7);\n",
       "        \n",
       "    \n",
       "        var popup_98e034e707e370eebbe95c8b0e91484e = L.popup({&quot;maxWidth&quot;: 2650});\n",
       "\n",
       "        \n",
       "            var i_frame_2f73caf2f870b9de312496c61a729a83 = $(`&lt;iframe src=&quot;data:text/html;charset=utf-8;base64,CiAgICAKICAgICAgICAgICAgPGRpdiBzdHlsZT0iZm9udC1mYW1pbHk6IGFyaWFsOyBjb2xvcjogYmxhY2siPgogICAgICAgICAgICA8aD48Yj4gQ0VQU0E8L2g+PC9iPgogICAgICAgICAgICA8cD5QcmljZXM6PC9wPgogICAgICAgICAgICAgICAgPGxpPiBHYXNvbGluYSA5NToxLDg3NSDigqw8L2xpPgogICAgICAgICAgICAgICAgPGxpPiBEacOpc2VsOjEsODgwIOKCrDwvbGk+CiAgICAgICAgICAgIDxwPjxiPkRpcmVjY2nDs246PC9iPjwvcD4KICAgICAgICAgICAgPHA+QVZFTklEQSBERSBMT1MgVE9SRVJPUywgUy9OPC9wPgogICAgICAgICAgICA8L3VsPiAKICAgICAgICAgICAgPC9wPgogICAgICAgICAgICA8aW1nIHNyYz0ibXlfcGxvdF9uYW1lLnBuZyI+CiAgICAgICAgICAgIDxwPkFuZCB0aGF0J3MgYSA8YSBocmVmPSJodHRwczovL3d3dy5weXRob24tZ3JhcGgtZ2FsbGVyeS5jb20iPmxpbms8L2E+PC9wPjwvZGl2PgogICAgICAgICAgICA=&quot; width=&quot;200&quot; style=&quot;border:none !important;&quot; height=&quot;200&quot;&gt;&lt;/iframe&gt;`)[0];\n",
       "            popup_98e034e707e370eebbe95c8b0e91484e.setContent(i_frame_2f73caf2f870b9de312496c61a729a83);\n",
       "        \n",
       "\n",
       "        marker_f7af93eb5a278f94a6ad3f0753c16743.bindPopup(popup_98e034e707e370eebbe95c8b0e91484e)\n",
       "        ;\n",
       "\n",
       "        \n",
       "    \n",
       "    \n",
       "            var marker_ceae5a61c4bf42514375fbf46afae5b4 = L.marker(\n",
       "                [40.441611, -3.6695],\n",
       "                {}\n",
       "            ).addTo(map_ac79ce3ec512283647cac658f363414f);\n",
       "        \n",
       "    \n",
       "            var icon_fab758159927d4fbcad164c0cee7991d = L.AwesomeMarkers.icon(\n",
       "                {&quot;extraClasses&quot;: &quot;fa-rotate-0&quot;, &quot;icon&quot;: &quot;ok-sign&quot;, &quot;iconColor&quot;: &quot;white&quot;, &quot;markerColor&quot;: &quot;green&quot;, &quot;prefix&quot;: &quot;glyphicon&quot;}\n",
       "            );\n",
       "            marker_ceae5a61c4bf42514375fbf46afae5b4.setIcon(icon_fab758159927d4fbcad164c0cee7991d);\n",
       "        \n",
       "    \n",
       "        var popup_3236faae2d76cdddc195a34c2f77403f = L.popup({&quot;maxWidth&quot;: 2650});\n",
       "\n",
       "        \n",
       "            var i_frame_47ecab04da3cde0e6e05199b0ae76639 = $(`&lt;iframe src=&quot;data:text/html;charset=utf-8;base64,CiAgICAKICAgICAgICAgICAgPGRpdiBzdHlsZT0iZm9udC1mYW1pbHk6IGFyaWFsOyBjb2xvcjogYmxhY2siPgogICAgICAgICAgICA8aD48Yj4gQ0VQU0E8L2g+PC9iPgogICAgICAgICAgICA8cD5QcmljZXM6PC9wPgogICAgICAgICAgICAgICAgPGxpPiBHYXNvbGluYSA5NToxLDkxOSDigqw8L2xpPgogICAgICAgICAgICAgICAgPGxpPiBEacOpc2VsOjEsOTQ5IOKCrDwvbGk+CiAgICAgICAgICAgIDxwPjxiPkRpcmVjY2nDs246PC9iPjwvcD4KICAgICAgICAgICAgPHA+Q0FMTEUgQ09SQVpPTiBERSBNQVJJQSwgMTE8L3A+CiAgICAgICAgICAgIDwvdWw+IAogICAgICAgICAgICA8L3A+CiAgICAgICAgICAgIDxpbWcgc3JjPSJteV9wbG90X25hbWUucG5nIj4KICAgICAgICAgICAgPHA+QW5kIHRoYXQncyBhIDxhIGhyZWY9Imh0dHBzOi8vd3d3LnB5dGhvbi1ncmFwaC1nYWxsZXJ5LmNvbSI+bGluazwvYT48L3A+PC9kaXY+CiAgICAgICAgICAgIA==&quot; width=&quot;200&quot; style=&quot;border:none !important;&quot; height=&quot;200&quot;&gt;&lt;/iframe&gt;`)[0];\n",
       "            popup_3236faae2d76cdddc195a34c2f77403f.setContent(i_frame_47ecab04da3cde0e6e05199b0ae76639);\n",
       "        \n",
       "\n",
       "        marker_ceae5a61c4bf42514375fbf46afae5b4.bindPopup(popup_3236faae2d76cdddc195a34c2f77403f)\n",
       "        ;\n",
       "\n",
       "        \n",
       "    \n",
       "    \n",
       "            var marker_b2022f8833f4ab1f678df1c2f99b2fe9 = L.marker(\n",
       "                [40.4402741, -3.6610318],\n",
       "                {}\n",
       "            ).addTo(map_ac79ce3ec512283647cac658f363414f);\n",
       "        \n",
       "    \n",
       "            var icon_c68ed3a6eff427af376009a622664819 = L.AwesomeMarkers.icon(\n",
       "                {&quot;extraClasses&quot;: &quot;fa-rotate-0&quot;, &quot;icon&quot;: &quot;home&quot;, &quot;iconColor&quot;: &quot;white&quot;, &quot;markerColor&quot;: &quot;cadetblue&quot;, &quot;prefix&quot;: &quot;glyphicon&quot;}\n",
       "            );\n",
       "            marker_b2022f8833f4ab1f678df1c2f99b2fe9.setIcon(icon_c68ed3a6eff427af376009a622664819);\n",
       "        \n",
       "    \n",
       "        var popup_e6d1806ec5758ad422e4ccbf280e5037 = L.popup({&quot;maxWidth&quot;: 2650});\n",
       "\n",
       "        \n",
       "            var i_frame_277cfbb15801da1db42ce1554c2975fd = $(`&lt;iframe src=&quot;data:text/html;charset=utf-8;base64,CiAgICAKICAgICAgICA8ZGl2IHN0eWxlPSJmb250LWZhbWlseTogdGltZXMgbmV3IHJvbWFuOyBjb2xvcjogZ3JlZW4iPgogICAgICAgIDxoPjxiPiBBY3R1YWxtZW50ZSB0ZSBlbmN1ZW50cmFzIGFxdcOtIDwvYj48L2g+PC9kaXY+CiAgICAgICAg&quot; width=&quot;150&quot; style=&quot;border:none !important;&quot; height=&quot;60&quot;&gt;&lt;/iframe&gt;`)[0];\n",
       "            popup_e6d1806ec5758ad422e4ccbf280e5037.setContent(i_frame_277cfbb15801da1db42ce1554c2975fd);\n",
       "        \n",
       "\n",
       "        marker_b2022f8833f4ab1f678df1c2f99b2fe9.bindPopup(popup_e6d1806ec5758ad422e4ccbf280e5037)\n",
       "        ;\n",
       "\n",
       "        \n",
       "    \n",
       "&lt;/script&gt;\" style=\"position:absolute;width:100%;height:100%;left:0;top:0;border:none !important;\" allowfullscreen webkitallowfullscreen mozallowfullscreen></iframe></div></div>"
      ],
      "text/plain": [
       "<folium.folium.Map at 0x7fbded687210>"
      ]
     },
     "execution_count": 47,
     "metadata": {},
     "output_type": "execute_result"
    }
   ],
   "source": [
    "mapa_loop = folium.Map(location=[40.546376,-3.638541], zoom_start=15)\n",
    "\n",
    "#marker_cluster = MarkerCluster().add_to(mapa_loop)\n",
    "\n",
    "def ubi_gasolinera(price_head):\n",
    "    for i in range(0,len(price_head)):\n",
    "        html=f\"\"\"\n",
    "            <div style=\"font-family: arial; color: black\">\n",
    "            <h><b> {price_head.iloc[i]['Rótulo']}</h></b>\n",
    "            <p>Prices:</p>\n",
    "                <li> Gasolina 95:{price_head.iloc[i]['Precio gasolina 95 E5']} €</li>\n",
    "                <li> Diésel:{price_head.iloc[i]['Precio gasóleo A']} €</li>\n",
    "            <p><b>Dirección:</b></p>\n",
    "            <p>{price_head.iloc[i]['Dirección']}</p>\n",
    "            </ul> \n",
    "            </p>\n",
    "            <img src=\"my_plot_name.png\">\n",
    "            <p>And that's a <a href=\"https://www.python-graph-gallery.com\">link</a></p></div>\n",
    "            \"\"\"\n",
    "        \n",
    "        iframe = folium.IFrame(html=html, width=200, height=200)\n",
    "        popup = folium.Popup(iframe, max_width=2650)\n",
    "        \n",
    "        folium.Marker(\n",
    "                location=[price_head.iloc[i]['Latitud'],price_head.iloc[i]['Longitud']],\n",
    "                popup=popup,\n",
    "                icon=folium.Icon(color=\"green\",  icon=\"ok-sign\"),\n",
    "        ).add_to(mapa_loop)\n",
    "        \n",
    "    return mapa_loop\n",
    "\n",
    "def ubi_actual(price_head):\n",
    "    html=f\"\"\"\n",
    "        <div style=\"font-family: times new roman; color: green\">\n",
    "        <h><b> Actualmente te encuentras aquí </b></h></div>\n",
    "        \"\"\"\n",
    "    iframe = folium.IFrame(html=html, width=150, height=60)\n",
    "    popup = folium.Popup(iframe, max_width=2650)\n",
    "    folium.Marker(\n",
    "        location=[price_head.iloc[0]['Latitud_partida'],price_head.iloc[0]['Longitud_partida']],\n",
    "        popup=popup,\n",
    "        icon=folium.Icon(color=\"cadetblue\",  icon=\"home\"),\n",
    ").add_to(mapa_loop)  \n",
    "    return mapa_loop\n",
    "    \n",
    "ubi_gasolinera(price_head)\n",
    "ubi_actual(price_head)"
   ]
  },
  {
   "cell_type": "code",
   "execution_count": 32,
   "id": "cb4735ec",
   "metadata": {},
   "outputs": [
    {
     "name": "stderr",
     "output_type": "stream",
     "text": [
      "2022-04-24 17:33:48.410 INFO    matplotlib.category: Using categorical units to plot a list of strings that are all parsable as floats or dates. If these strings should be plotted as numbers, cast to the appropriate data type before plotting.\n",
      "2022-04-24 17:33:48.413 INFO    matplotlib.category: Using categorical units to plot a list of strings that are all parsable as floats or dates. If these strings should be plotted as numbers, cast to the appropriate data type before plotting.\n",
      "2022-04-24 17:33:48.418 INFO    matplotlib.category: Using categorical units to plot a list of strings that are all parsable as floats or dates. If these strings should be plotted as numbers, cast to the appropriate data type before plotting.\n",
      "2022-04-24 17:33:48.422 INFO    matplotlib.category: Using categorical units to plot a list of strings that are all parsable as floats or dates. If these strings should be plotted as numbers, cast to the appropriate data type before plotting.\n"
     ]
    },
    {
     "data": {
      "image/png": "[encoded data removed]",
      "text/plain": [
       "<Figure size 936x360 with 1 Axes>"
      ]
     },
     "metadata": {
      "needs_background": "light"
     },
     "output_type": "display_data"
    }
   ],
   "source": [
    "df_grafico=[]\n",
    "direccion_gasolineras=list(price_head['Dirección'].unique())\n",
    "for i in direccion_gasolineras:\n",
    "    df_grafico.append(df_acum[df_acum.Dirección.isin([i])])\n",
    "df_grafico[0]\n",
    "\n",
    "fig, ax = plt.subplots(nrows=1, ncols=1, figsize=(13,5))\n",
    "x= df_grafico[0]['Fecha de extracción']\n",
    "y= df_grafico[0] ['Precio gasolina 95 E5'].sort_values()\n",
    "\n",
    "ax.plot(x,y)\n",
    "plt.show()\n",
    "fig.savefig(\"my_plot_name.png\")"
   ]
  },
  {
   "cell_type": "code",
   "execution_count": 33,
   "id": "a3f492a8",
   "metadata": {},
   "outputs": [],
   "source": [
    "# introducir imagen con html para meter el grafico en la etiqueta.\n",
    "#https://python-graph-gallery.com/312-add-markers-on-folium-map"
   ]
  },
  {
   "cell_type": "code",
   "execution_count": 34,
   "id": "d8244448",
   "metadata": {},
   "outputs": [
    {
     "name": "stderr",
     "output_type": "stream",
     "text": [
      "2022-04-24 17:33:48.765 \n",
      "  \u001b[33m\u001b[1mWarning:\u001b[0m to view this Streamlit app on a browser, run it with the following\n",
      "  command:\n",
      "\n",
      "    streamlit run /Users/Andrea/miniconda3/envs/proj-final/lib/python3.7/site-packages/ipykernel_launcher.py [ARGUMENTS]\n"
     ]
    },
    {
     "data": {
      "text/plain": [
       "DeltaGenerator(_root_container=0, _provided_cursor=None, _parent=None, _block_type=None, _form_data=None)"
      ]
     },
     "execution_count": 34,
     "metadata": {},
     "output_type": "execute_result"
    }
   ],
   "source": [
    "#st.title('Map of Gas')"
   ]
  },
  {
   "cell_type": "code",
   "execution_count": 35,
   "id": "9d320b25",
   "metadata": {},
   "outputs": [
    {
     "data": {
      "text/plain": [
       "DeltaGenerator(_root_container=0, _provided_cursor=None, _parent=None, _block_type=None, _form_data=None)"
      ]
     },
     "execution_count": 35,
     "metadata": {},
     "output_type": "execute_result"
    }
   ],
   "source": [
    "#folium_static(mapa_loop)"
   ]
  },
  {
   "cell_type": "code",
   "execution_count": 56,
   "id": "e0ce354e",
   "metadata": {},
   "outputs": [
    {
     "ename": "SyntaxError",
     "evalue": "invalid syntax (494728032.py, line 1)",
     "output_type": "error",
     "traceback": [
      "\u001b[0;36m  File \u001b[0;32m\"/var/folders/v0/ywqslh_51dx3jnpnjr05wgsr0000gn/T/ipykernel_31134/494728032.py\"\u001b[0;36m, line \u001b[0;32m1\u001b[0m\n\u001b[0;31m    st.run mapa_loop.py\u001b[0m\n\u001b[0m                   ^\u001b[0m\n\u001b[0;31mSyntaxError\u001b[0m\u001b[0;31m:\u001b[0m invalid syntax\n"
     ]
    }
   ],
   "source": [
    "#mapa_loop.py"
   ]
  },
  {
   "cell_type": "code",
   "execution_count": null,
   "id": "83cf7b97",
   "metadata": {},
   "outputs": [],
   "source": [
    "mapa_loop = folium.Map(location=[40.546376,-3.638541], zoom_start=15)\n",
    "\n",
    "#marker_cluster = MarkerCluster().add_to(mapa_loop)\n",
    "\n",
    "def ubi_gasolinera(price_head):\n",
    "    for i in range(0,len(price_head)):\n",
    "        html=f\"\"\"\n",
    "            <div style=\"font-family: arial; color: black\">\n",
    "            <h><b> {price_head.iloc[i]['Rótulo']}</h></b>\n",
    "            <p>Prices:</p>\n",
    "                <li> Gasolina 95:{price_head.iloc[i]['Precio gasolina 95 E5']} €</li>\n",
    "                <li> Diésel:{price_head.iloc[i]['Precio gasóleo A']} €</li>\n",
    "            <p><b>Dirección:</b></p>\n",
    "            <p>{price_head.iloc[i]['Dirección']}</p>\n",
    "            </ul> \n",
    "            </p>\n",
    "            <img src=\"my_plot_name.png\">\n",
    "            <p>And that's a <a href=\"https://www.python-graph-gallery.com\">link</a></p></div>\n",
    "            \"\"\"\n",
    "        \n",
    "        iframe = folium.IFrame(html=html, width=200, height=200)\n",
    "        popup = folium.Popup(iframe, max_width=2650)\n",
    "        \n",
    "        if price_head[price_head.iloc[i]['Rótulo']== Green\n",
    "        \n",
    "        folium.Marker(\n",
    "                location=[price_head.iloc[i]['Latitud'],price_head.iloc[i]['Longitud']],\n",
    "                popup=popup,\n",
    "                icon=folium.Icon(color=\"green\",  icon=\"ok-sign\"),\n",
    "        ).add_to(mapa_loop)\n",
    "        \n",
    "    return mapa_loop\n",
    "\n",
    "def ubi_actual(price_head):\n",
    "    html=f\"\"\"\n",
    "        <div style=\"font-family: times new roman; color: green\">\n",
    "        <h><b> Actualmente te encuentras aquí </b></h></div>\n",
    "        \"\"\"\n",
    "    iframe = folium.IFrame(html=html, width=150, height=60)\n",
    "    popup = folium.Popup(iframe, max_width=2650)\n",
    "    folium.Marker(\n",
    "        location=[price_head.iloc[0]['Latitud_partida'],price_head.iloc[0]['Longitud_partida']],\n",
    "        popup=popup,\n",
    "        icon=folium.Icon(color=\"cadetblue\",  icon=\"home\"),\n",
    ").add_to(mapa_loop)  \n",
    "    return mapa_loop\n",
    "    \n",
    "ubi_gasolinera(price_head)\n",
    "ubi_actual(price_head)"
   ]
  }
 ],
 "metadata": {
  "kernelspec": {
   "display_name": "Python [conda env:proj-final]",
   "language": "python",
   "name": "conda-env-proj-final-py"
  },
  "language_info": {
   "codemirror_mode": {
    "name": "ipython",
    "version": 3
   },
   "file_extension": ".py",
   "mimetype": "text/x-python",
   "name": "python",
   "nbconvert_exporter": "python",
   "pygments_lexer": "ipython3",
   "version": "3.7.13"
  }
 },
 "nbformat": 4,
 "nbformat_minor": 5
}
