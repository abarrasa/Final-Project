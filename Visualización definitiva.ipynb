{
 "cells": [
  {
   "cell_type": "code",
   "execution_count": 63,
   "id": "b73ecaa0",
   "metadata": {},
   "outputs": [],
   "source": [
    "import osmnx as ox\n",
    "import pandas as pd\n",
    "import geocoder\n",
    "from geopy.geocoders import Nominatim\n",
    "import folium\n",
    "from folium.plugins import MarkerCluster\n",
    "import streamlit as st\n",
    "from streamlit_folium import folium_static\n",
    "import matplotlib.pyplot as plt \n",
    "import warnings\n",
    "warnings.filterwarnings('ignore')"
   ]
  },
  {
   "cell_type": "code",
   "execution_count": 25,
   "id": "bec0166c",
   "metadata": {},
   "outputs": [],
   "source": [
    "price_today= pd.read_excel('price_today.xlsx')\n",
    "df_acum= pd.read_excel('df_definitivo.xlsx')"
   ]
  },
  {
   "cell_type": "code",
   "execution_count": 26,
   "id": "b2ffb60c",
   "metadata": {},
   "outputs": [
    {
     "name": "stdout",
     "output_type": "stream",
     "text": [
      "(40.5492094, -3.6446537)\n"
     ]
    }
   ],
   "source": [
    "geolocator = Nominatim(user_agent=\"My-App\")\n",
    "location = geolocator.geocode(\"Plaza Maestro Tarrega, 8, Alcobendas\") \n",
    "\n",
    "print((location.latitude, location.longitude))"
   ]
  },
  {
   "cell_type": "code",
   "execution_count": 4,
   "id": "60505c90",
   "metadata": {},
   "outputs": [
    {
     "data": {
      "text/plain": [
       "geopy.location.Location"
      ]
     },
     "execution_count": 4,
     "metadata": {},
     "output_type": "execute_result"
    }
   ],
   "source": [
    "type(location)"
   ]
  },
  {
   "cell_type": "code",
   "execution_count": 47,
   "id": "d78d24b0",
   "metadata": {},
   "outputs": [
    {
     "data": {
      "text/plain": [
       "{'REPSOL': 'REPSOL.png', 'CEPSA': 'CEPSA.png'}"
      ]
     },
     "execution_count": 47,
     "metadata": {},
     "output_type": "execute_result"
    }
   ],
   "source": [
    "diccionario={'REPSOL': 'REPSOL.png', 'CEPSA': 'CEPSA.png'}\n",
    "diccionario\n"
   ]
  },
  {
   "cell_type": "code",
   "execution_count": 27,
   "id": "64654fb7",
   "metadata": {},
   "outputs": [
    {
     "data": {
      "text/html": [
       "<div>\n",
       "<style scoped>\n",
       "    .dataframe tbody tr th:only-of-type {\n",
       "        vertical-align: middle;\n",
       "    }\n",
       "\n",
       "    .dataframe tbody tr th {\n",
       "        vertical-align: top;\n",
       "    }\n",
       "\n",
       "    .dataframe thead th {\n",
       "        text-align: right;\n",
       "    }\n",
       "</style>\n",
       "<table border=\"1\" class=\"dataframe\">\n",
       "  <thead>\n",
       "    <tr style=\"text-align: right;\">\n",
       "      <th></th>\n",
       "      <th>Provincia</th>\n",
       "      <th>Municipio</th>\n",
       "      <th>Localidad</th>\n",
       "      <th>Código postal</th>\n",
       "      <th>Dirección</th>\n",
       "      <th>Longitud</th>\n",
       "      <th>Latitud</th>\n",
       "      <th>Precio gasolina 95 E5</th>\n",
       "      <th>Precio gasolina 95 E5 Premium</th>\n",
       "      <th>Precio gasolina 98 E5</th>\n",
       "      <th>Precio gasóleo A</th>\n",
       "      <th>Precio gasóleo Premium</th>\n",
       "      <th>Rótulo</th>\n",
       "      <th>Horario</th>\n",
       "      <th>Fecha de extracción</th>\n",
       "      <th>Latitud_partida</th>\n",
       "      <th>Longitud_partida</th>\n",
       "      <th>mercator_start</th>\n",
       "      <th>mercator_finish</th>\n",
       "      <th>Distance</th>\n",
       "    </tr>\n",
       "  </thead>\n",
       "  <tbody>\n",
       "    <tr>\n",
       "      <th>6386</th>\n",
       "      <td>MADRID</td>\n",
       "      <td>Alcobendas</td>\n",
       "      <td>ALCOBENDAS</td>\n",
       "      <td>28100</td>\n",
       "      <td>AVENIDA MARQUES DE LA VALDAVIA, 132</td>\n",
       "      <td>-3.651861</td>\n",
       "      <td>40.546556</td>\n",
       "      <td>1,779</td>\n",
       "      <td>No disponible</td>\n",
       "      <td>No disponible</td>\n",
       "      <td>1,799</td>\n",
       "      <td>No disponible</td>\n",
       "      <td>PETROPRIX</td>\n",
       "      <td>L-D: 24H</td>\n",
       "      <td>23-04-2022</td>\n",
       "      <td>40.549209</td>\n",
       "      <td>-3.644654</td>\n",
       "      <td>POINT (4513917.342477823 -405994.8883876073)</td>\n",
       "      <td>POINT (4513621.967340952 -406798.8305516534)</td>\n",
       "      <td>856.486704</td>\n",
       "    </tr>\n",
       "    <tr>\n",
       "      <th>6383</th>\n",
       "      <td>MADRID</td>\n",
       "      <td>Alcobendas</td>\n",
       "      <td>ALCOBENDAS</td>\n",
       "      <td>28100</td>\n",
       "      <td>CALLE MARQUES DE LA VALDAVIA (DEL), 138</td>\n",
       "      <td>-3.653944</td>\n",
       "      <td>40.546944</td>\n",
       "      <td>1,879</td>\n",
       "      <td>No disponible</td>\n",
       "      <td>2,021</td>\n",
       "      <td>1,929</td>\n",
       "      <td>2,019</td>\n",
       "      <td>BP VALDAVIA</td>\n",
       "      <td>L-D: 24H</td>\n",
       "      <td>23-04-2022</td>\n",
       "      <td>40.549209</td>\n",
       "      <td>-3.644654</td>\n",
       "      <td>POINT (4513917.342477823 -405994.8883876073)</td>\n",
       "      <td>POINT (4513665.159303379 -407031.1811113249)</td>\n",
       "      <td>1066.535964</td>\n",
       "    </tr>\n",
       "    <tr>\n",
       "      <th>6394</th>\n",
       "      <td>MADRID</td>\n",
       "      <td>Alcobendas</td>\n",
       "      <td>ALCOBENDAS</td>\n",
       "      <td>28100</td>\n",
       "      <td>CL AVENIDA DE ESPAÑA, S.N.</td>\n",
       "      <td>-3.634639</td>\n",
       "      <td>40.546167</td>\n",
       "      <td>1,869</td>\n",
       "      <td>No disponible</td>\n",
       "      <td>2,019</td>\n",
       "      <td>1,929</td>\n",
       "      <td>2,019</td>\n",
       "      <td>REPSOL</td>\n",
       "      <td>L-D: 24H</td>\n",
       "      <td>23-04-2022</td>\n",
       "      <td>40.549209</td>\n",
       "      <td>-3.644654</td>\n",
       "      <td>POINT (4513917.342477823 -405994.8883876073)</td>\n",
       "      <td>POINT (4513578.664059033 -404877.8039682711)</td>\n",
       "      <td>1167.296308</td>\n",
       "    </tr>\n",
       "  </tbody>\n",
       "</table>\n",
       "</div>"
      ],
      "text/plain": [
       "     Provincia   Municipio   Localidad  Código postal  \\\n",
       "6386    MADRID  Alcobendas  ALCOBENDAS          28100   \n",
       "6383    MADRID  Alcobendas  ALCOBENDAS          28100   \n",
       "6394    MADRID  Alcobendas  ALCOBENDAS          28100   \n",
       "\n",
       "                                    Dirección  Longitud    Latitud  \\\n",
       "6386      AVENIDA MARQUES DE LA VALDAVIA, 132 -3.651861  40.546556   \n",
       "6383  CALLE MARQUES DE LA VALDAVIA (DEL), 138 -3.653944  40.546944   \n",
       "6394               CL AVENIDA DE ESPAÑA, S.N. -3.634639  40.546167   \n",
       "\n",
       "     Precio gasolina 95 E5 Precio gasolina 95 E5 Premium  \\\n",
       "6386                 1,779                 No disponible   \n",
       "6383                 1,879                 No disponible   \n",
       "6394                 1,869                 No disponible   \n",
       "\n",
       "     Precio gasolina 98 E5 Precio gasóleo A Precio gasóleo Premium  \\\n",
       "6386         No disponible            1,799          No disponible   \n",
       "6383                 2,021            1,929                  2,019   \n",
       "6394                 2,019            1,929                  2,019   \n",
       "\n",
       "           Rótulo   Horario Fecha de extracción  Latitud_partida  \\\n",
       "6386    PETROPRIX  L-D: 24H          23-04-2022        40.549209   \n",
       "6383  BP VALDAVIA  L-D: 24H          23-04-2022        40.549209   \n",
       "6394       REPSOL  L-D: 24H          23-04-2022        40.549209   \n",
       "\n",
       "      Longitud_partida                                mercator_start  \\\n",
       "6386         -3.644654  POINT (4513917.342477823 -405994.8883876073)   \n",
       "6383         -3.644654  POINT (4513917.342477823 -405994.8883876073)   \n",
       "6394         -3.644654  POINT (4513917.342477823 -405994.8883876073)   \n",
       "\n",
       "                                   mercator_finish     Distance  \n",
       "6386  POINT (4513621.967340952 -406798.8305516534)   856.486704  \n",
       "6383  POINT (4513665.159303379 -407031.1811113249)  1066.535964  \n",
       "6394  POINT (4513578.664059033 -404877.8039682711)  1167.296308  "
      ]
     },
     "execution_count": 27,
     "metadata": {},
     "output_type": "execute_result"
    }
   ],
   "source": [
    "price_today = price_today.sort_values('Distance')\n",
    "price_head=price_today.head(3)\n",
    "price_head"
   ]
  },
  {
   "cell_type": "code",
   "execution_count": 48,
   "id": "fb2b6930",
   "metadata": {
    "scrolled": true
   },
   "outputs": [
    {
     "data": {
      "text/html": [
       "<div style=\"width:100%;\"><div style=\"position:relative;width:100%;height:0;padding-bottom:60%;\"><span style=\"color:#565656\">Make this Notebook Trusted to load map: File -> Trust Notebook</span><iframe srcdoc=\"&lt;!DOCTYPE html&gt;\n",
       "&lt;head&gt;    \n",
       "    &lt;meta http-equiv=&quot;content-type&quot; content=&quot;text/html; charset=UTF-8&quot; /&gt;\n",
       "    \n",
       "        &lt;script&gt;\n",
       "            L_NO_TOUCH = false;\n",
       "            L_DISABLE_3D = false;\n",
       "        &lt;/script&gt;\n",
       "    \n",
       "    &lt;style&gt;html, body {width: 100%;height: 100%;margin: 0;padding: 0;}&lt;/style&gt;\n",
       "    &lt;style&gt;#map {position:absolute;top:0;bottom:0;right:0;left:0;}&lt;/style&gt;\n",
       "    &lt;script src=&quot;https://cdn.jsdelivr.net/npm/leaflet@1.6.0/dist/leaflet.js&quot;&gt;&lt;/script&gt;\n",
       "    &lt;script src=&quot;https://code.jquery.com/jquery-1.12.4.min.js&quot;&gt;&lt;/script&gt;\n",
       "    &lt;script src=&quot;https://maxcdn.bootstrapcdn.com/bootstrap/3.2.0/js/bootstrap.min.js&quot;&gt;&lt;/script&gt;\n",
       "    &lt;script src=&quot;https://cdnjs.cloudflare.com/ajax/libs/Leaflet.awesome-markers/2.0.2/leaflet.awesome-markers.js&quot;&gt;&lt;/script&gt;\n",
       "    &lt;link rel=&quot;stylesheet&quot; href=&quot;https://cdn.jsdelivr.net/npm/leaflet@1.6.0/dist/leaflet.css&quot;/&gt;\n",
       "    &lt;link rel=&quot;stylesheet&quot; href=&quot;https://maxcdn.bootstrapcdn.com/bootstrap/3.2.0/css/bootstrap.min.css&quot;/&gt;\n",
       "    &lt;link rel=&quot;stylesheet&quot; href=&quot;https://maxcdn.bootstrapcdn.com/bootstrap/3.2.0/css/bootstrap-theme.min.css&quot;/&gt;\n",
       "    &lt;link rel=&quot;stylesheet&quot; href=&quot;https://maxcdn.bootstrapcdn.com/font-awesome/4.6.3/css/font-awesome.min.css&quot;/&gt;\n",
       "    &lt;link rel=&quot;stylesheet&quot; href=&quot;https://cdnjs.cloudflare.com/ajax/libs/Leaflet.awesome-markers/2.0.2/leaflet.awesome-markers.css&quot;/&gt;\n",
       "    &lt;link rel=&quot;stylesheet&quot; href=&quot;https://cdn.jsdelivr.net/gh/python-visualization/folium/folium/templates/leaflet.awesome.rotate.min.css&quot;/&gt;\n",
       "    \n",
       "            &lt;meta name=&quot;viewport&quot; content=&quot;width=device-width,\n",
       "                initial-scale=1.0, maximum-scale=1.0, user-scalable=no&quot; /&gt;\n",
       "            &lt;style&gt;\n",
       "                #map_09d0aaf189482dab1a26a6b7165618f0 {\n",
       "                    position: relative;\n",
       "                    width: 100.0%;\n",
       "                    height: 100.0%;\n",
       "                    left: 0.0%;\n",
       "                    top: 0.0%;\n",
       "                }\n",
       "            &lt;/style&gt;\n",
       "        \n",
       "&lt;/head&gt;\n",
       "&lt;body&gt;    \n",
       "    \n",
       "            &lt;div class=&quot;folium-map&quot; id=&quot;map_09d0aaf189482dab1a26a6b7165618f0&quot; &gt;&lt;/div&gt;\n",
       "        \n",
       "&lt;/body&gt;\n",
       "&lt;script&gt;    \n",
       "    \n",
       "            var map_09d0aaf189482dab1a26a6b7165618f0 = L.map(\n",
       "                &quot;map_09d0aaf189482dab1a26a6b7165618f0&quot;,\n",
       "                {\n",
       "                    center: [40.546376, -3.638541],\n",
       "                    crs: L.CRS.EPSG3857,\n",
       "                    zoom: 15,\n",
       "                    zoomControl: true,\n",
       "                    preferCanvas: false,\n",
       "                }\n",
       "            );\n",
       "\n",
       "            \n",
       "\n",
       "        \n",
       "    \n",
       "            var tile_layer_c7792f96c2da3177f23af30cf0b3c931 = L.tileLayer(\n",
       "                &quot;https://{s}.tile.openstreetmap.org/{z}/{x}/{y}.png&quot;,\n",
       "                {&quot;attribution&quot;: &quot;Data by \\u0026copy; \\u003ca href=\\&quot;http://openstreetmap.org\\&quot;\\u003eOpenStreetMap\\u003c/a\\u003e, under \\u003ca href=\\&quot;http://www.openstreetmap.org/copyright\\&quot;\\u003eODbL\\u003c/a\\u003e.&quot;, &quot;detectRetina&quot;: false, &quot;maxNativeZoom&quot;: 18, &quot;maxZoom&quot;: 18, &quot;minZoom&quot;: 0, &quot;noWrap&quot;: false, &quot;opacity&quot;: 1, &quot;subdomains&quot;: &quot;abc&quot;, &quot;tms&quot;: false}\n",
       "            ).addTo(map_09d0aaf189482dab1a26a6b7165618f0);\n",
       "        \n",
       "    \n",
       "            var marker_b0cdedab6b729c190344112e3e939348 = L.marker(\n",
       "                [40.546556, -3.651861],\n",
       "                {}\n",
       "            ).addTo(map_09d0aaf189482dab1a26a6b7165618f0);\n",
       "        \n",
       "    \n",
       "            var icon_a474b2beed542ded56b4c9a3643d91ef = L.AwesomeMarkers.icon(\n",
       "                {&quot;extraClasses&quot;: &quot;fa-rotate-0&quot;, &quot;icon&quot;: &quot;ok-sign&quot;, &quot;iconColor&quot;: &quot;white&quot;, &quot;markerColor&quot;: &quot;green&quot;, &quot;prefix&quot;: &quot;glyphicon&quot;}\n",
       "            );\n",
       "            marker_b0cdedab6b729c190344112e3e939348.setIcon(icon_a474b2beed542ded56b4c9a3643d91ef);\n",
       "        \n",
       "    \n",
       "        var popup_1ee22ff8247a1392b5cc6fec69dc7427 = L.popup({&quot;maxWidth&quot;: 2650});\n",
       "\n",
       "        \n",
       "            var i_frame_1fef7ceab140d2a5fa1b39895348da8c = $(`&lt;iframe src=&quot;data:text/html;charset=utf-8;base64,CiAgICAKICAgICAgICAgICAgPGg+IFBFVFJPUFJJWDwvaD4KICAgICAgICAgICAgPHA+PGI+UHJpY2VzOjwvYj48L3A+CiAgICAgICAgICAgICAgICA8bGk+IEdhc29saW5hIDk1OjEsNzc5IOKCrDwvbGk+CiAgICAgICAgICAgICAgICA8bGk+IERpw6lzZWw6MSw3OTkg4oKsPC9saT4KICAgICAgICAgICAgPHA+PGI+RGlyZWNjacOzbjo8L2I+PC9wPgogICAgICAgICAgICA8cD5BVkVOSURBIE1BUlFVRVMgREUgTEEgVkFMREFWSUEsIDEzMjwvcD4KICAgICAgICAgICAgPC91bD4gCiAgICAgICAgICAgIDwvcD4KICAgICAgICAgICAgPHA+QW5kIHRoYXQncyBhIDxhIGhyZWY9Imh0dHBzOi8vd3d3LnB5dGhvbi1ncmFwaC1nYWxsZXJ5LmNvbSI+bGluazwvYT48L3A+CiAgICAgICAgICAgIA==&quot; width=&quot;200&quot; style=&quot;border:none !important;&quot; height=&quot;200&quot;&gt;&lt;/iframe&gt;`)[0];\n",
       "            popup_1ee22ff8247a1392b5cc6fec69dc7427.setContent(i_frame_1fef7ceab140d2a5fa1b39895348da8c);\n",
       "        \n",
       "\n",
       "        marker_b0cdedab6b729c190344112e3e939348.bindPopup(popup_1ee22ff8247a1392b5cc6fec69dc7427)\n",
       "        ;\n",
       "\n",
       "        \n",
       "    \n",
       "    \n",
       "            var marker_44e436dedc76a8d6a4b3d7fcb8e83449 = L.marker(\n",
       "                [40.546944, -3.653944],\n",
       "                {}\n",
       "            ).addTo(map_09d0aaf189482dab1a26a6b7165618f0);\n",
       "        \n",
       "    \n",
       "            var icon_248097a22d348a1aad2cd3fb2104b0a5 = L.AwesomeMarkers.icon(\n",
       "                {&quot;extraClasses&quot;: &quot;fa-rotate-0&quot;, &quot;icon&quot;: &quot;ok-sign&quot;, &quot;iconColor&quot;: &quot;white&quot;, &quot;markerColor&quot;: &quot;green&quot;, &quot;prefix&quot;: &quot;glyphicon&quot;}\n",
       "            );\n",
       "            marker_44e436dedc76a8d6a4b3d7fcb8e83449.setIcon(icon_248097a22d348a1aad2cd3fb2104b0a5);\n",
       "        \n",
       "    \n",
       "        var popup_c236fe6424aba25de71feab5878ddd49 = L.popup({&quot;maxWidth&quot;: 2650});\n",
       "\n",
       "        \n",
       "            var i_frame_d5d7e289d5130d5ad2c565262976fb91 = $(`&lt;iframe src=&quot;data:text/html;charset=utf-8;base64,CiAgICAKICAgICAgICAgICAgPGg+IEJQIFZBTERBVklBPC9oPgogICAgICAgICAgICA8cD48Yj5QcmljZXM6PC9iPjwvcD4KICAgICAgICAgICAgICAgIDxsaT4gR2Fzb2xpbmEgOTU6MSw4Nzkg4oKsPC9saT4KICAgICAgICAgICAgICAgIDxsaT4gRGnDqXNlbDoxLDkyOSDigqw8L2xpPgogICAgICAgICAgICA8cD48Yj5EaXJlY2Npw7NuOjwvYj48L3A+CiAgICAgICAgICAgIDxwPkNBTExFIE1BUlFVRVMgREUgTEEgVkFMREFWSUEgKERFTCksIDEzODwvcD4KICAgICAgICAgICAgPC91bD4gCiAgICAgICAgICAgIDwvcD4KICAgICAgICAgICAgPHA+QW5kIHRoYXQncyBhIDxhIGhyZWY9Imh0dHBzOi8vd3d3LnB5dGhvbi1ncmFwaC1nYWxsZXJ5LmNvbSI+bGluazwvYT48L3A+CiAgICAgICAgICAgIA==&quot; width=&quot;200&quot; style=&quot;border:none !important;&quot; height=&quot;200&quot;&gt;&lt;/iframe&gt;`)[0];\n",
       "            popup_c236fe6424aba25de71feab5878ddd49.setContent(i_frame_d5d7e289d5130d5ad2c565262976fb91);\n",
       "        \n",
       "\n",
       "        marker_44e436dedc76a8d6a4b3d7fcb8e83449.bindPopup(popup_c236fe6424aba25de71feab5878ddd49)\n",
       "        ;\n",
       "\n",
       "        \n",
       "    \n",
       "    \n",
       "            var marker_172dc603ce6a4a99762f724372fa2a02 = L.marker(\n",
       "                [40.546167, -3.634639],\n",
       "                {}\n",
       "            ).addTo(map_09d0aaf189482dab1a26a6b7165618f0);\n",
       "        \n",
       "    \n",
       "            var icon_3fd4ccbcf9bc104d0e23f716c1a112f4 = L.AwesomeMarkers.icon(\n",
       "                {&quot;extraClasses&quot;: &quot;fa-rotate-0&quot;, &quot;icon&quot;: &quot;ok-sign&quot;, &quot;iconColor&quot;: &quot;white&quot;, &quot;markerColor&quot;: &quot;green&quot;, &quot;prefix&quot;: &quot;glyphicon&quot;}\n",
       "            );\n",
       "            marker_172dc603ce6a4a99762f724372fa2a02.setIcon(icon_3fd4ccbcf9bc104d0e23f716c1a112f4);\n",
       "        \n",
       "    \n",
       "        var popup_d667be34548dbe13b1d7dc9a84321c93 = L.popup({&quot;maxWidth&quot;: 2650});\n",
       "\n",
       "        \n",
       "            var i_frame_0e0626a4bf0d89c8beed61e75775011a = $(`&lt;iframe src=&quot;data:text/html;charset=utf-8;base64,CiAgICAKICAgICAgICAgICAgPGg+IFJFUFNPTDwvaD4KICAgICAgICAgICAgPHA+PGI+UHJpY2VzOjwvYj48L3A+CiAgICAgICAgICAgICAgICA8bGk+IEdhc29saW5hIDk1OjEsODY5IOKCrDwvbGk+CiAgICAgICAgICAgICAgICA8bGk+IERpw6lzZWw6MSw5Mjkg4oKsPC9saT4KICAgICAgICAgICAgPHA+PGI+RGlyZWNjacOzbjo8L2I+PC9wPgogICAgICAgICAgICA8cD5DTCBBVkVOSURBIERFIEVTUEHDkUEsIFMuTi48L3A+CiAgICAgICAgICAgIDwvdWw+IAogICAgICAgICAgICA8L3A+CiAgICAgICAgICAgIDxwPkFuZCB0aGF0J3MgYSA8YSBocmVmPSJodHRwczovL3d3dy5weXRob24tZ3JhcGgtZ2FsbGVyeS5jb20iPmxpbms8L2E+PC9wPgogICAgICAgICAgICA=&quot; width=&quot;200&quot; style=&quot;border:none !important;&quot; height=&quot;200&quot;&gt;&lt;/iframe&gt;`)[0];\n",
       "            popup_d667be34548dbe13b1d7dc9a84321c93.setContent(i_frame_0e0626a4bf0d89c8beed61e75775011a);\n",
       "        \n",
       "\n",
       "        marker_172dc603ce6a4a99762f724372fa2a02.bindPopup(popup_d667be34548dbe13b1d7dc9a84321c93)\n",
       "        ;\n",
       "\n",
       "        \n",
       "    \n",
       "    \n",
       "            var marker_397f03e5814ec0b4107d0fcbd3eaeb2a = L.marker(\n",
       "                [40.5492094, -3.6446537],\n",
       "                {}\n",
       "            ).addTo(map_09d0aaf189482dab1a26a6b7165618f0);\n",
       "        \n",
       "    \n",
       "            var icon_b02d4e6ccf796a04d4245975fd5a39eb = L.AwesomeMarkers.icon(\n",
       "                {&quot;extraClasses&quot;: &quot;fa-rotate-0&quot;, &quot;icon&quot;: &quot;home&quot;, &quot;iconColor&quot;: &quot;white&quot;, &quot;markerColor&quot;: &quot;lightgray&quot;, &quot;prefix&quot;: &quot;glyphicon&quot;}\n",
       "            );\n",
       "            marker_397f03e5814ec0b4107d0fcbd3eaeb2a.setIcon(icon_b02d4e6ccf796a04d4245975fd5a39eb);\n",
       "        \n",
       "    \n",
       "        var popup_c7f52823a60c3df6fdb8bc7cadb315ad = L.popup({&quot;maxWidth&quot;: 2650});\n",
       "\n",
       "        \n",
       "            var i_frame_e5e2ef79a0b43e99a4d2190456ead811 = $(`&lt;iframe src=&quot;data:text/html;charset=utf-8;base64,CiAgICAKICAgICAgICA8aD48Yj4gQWN0dWFsbWVudGUgdGUgZW5jdWVudHJhcyBhcXXDrSA8L2I+PC9oPgogICAgICAgIA==&quot; width=&quot;150&quot; style=&quot;border:none !important;&quot; height=&quot;60&quot;&gt;&lt;/iframe&gt;`)[0];\n",
       "            popup_c7f52823a60c3df6fdb8bc7cadb315ad.setContent(i_frame_e5e2ef79a0b43e99a4d2190456ead811);\n",
       "        \n",
       "\n",
       "        marker_397f03e5814ec0b4107d0fcbd3eaeb2a.bindPopup(popup_c7f52823a60c3df6fdb8bc7cadb315ad)\n",
       "        ;\n",
       "\n",
       "        \n",
       "    \n",
       "&lt;/script&gt;\" style=\"position:absolute;width:100%;height:100%;left:0;top:0;border:none !important;\" allowfullscreen webkitallowfullscreen mozallowfullscreen></iframe></div></div>"
      ],
      "text/plain": [
       "<folium.folium.Map at 0x7fcd934f7990>"
      ]
     },
     "execution_count": 48,
     "metadata": {},
     "output_type": "execute_result"
    }
   ],
   "source": [
    "mapa_loop = folium.Map(location=[40.546376,-3.638541], zoom_start=15)\n",
    "\n",
    "#marker_cluster = MarkerCluster().add_to(mapa_loop)\n",
    "\n",
    "def ubi_gasolinera(price_head):\n",
    "    for i in range(0,len(price_head)):\n",
    "        html=f\"\"\"\n",
    "            <h> {price_head.iloc[i]['Rótulo']}</h>\n",
    "            <p><b>Prices:</b></p>\n",
    "                <li> Gasolina 95:{price_head.iloc[i]['Precio gasolina 95 E5']} €</li>\n",
    "                <li> Diésel:{price_head.iloc[i]['Precio gasóleo A']} €</li>\n",
    "            <p><b>Dirección:</b></p>\n",
    "            <p>{price_head.iloc[i]['Dirección']}</p>\n",
    "            </ul> \n",
    "            </p>\n",
    "            <p>And that's a <a href=\"https://www.python-graph-gallery.com\">link</a></p>\n",
    "            \"\"\"\n",
    "        \n",
    "        \n",
    "        iframe = folium.IFrame(html=html, width=200, height=200)\n",
    "        popup = folium.Popup(iframe, max_width=2650)\n",
    "        \n",
    "        folium.Marker(\n",
    "                location=[price_head.iloc[i]['Latitud'],price_head.iloc[i]['Longitud']],\n",
    "                popup=popup,\n",
    "                icon=folium.Icon(color=\"green\",  icon=\"ok-sign\"),\n",
    "        ).add_to(mapa_loop)\n",
    "        \n",
    "    return mapa_loop\n",
    "\n",
    "def ubi_actual(price_head):\n",
    "    html=f\"\"\"\n",
    "        <h><b> Actualmente te encuentras aquí </b></h>\n",
    "        \"\"\"\n",
    "    iframe = folium.IFrame(html=html, width=150, height=60)\n",
    "    popup = folium.Popup(iframe, max_width=2650)\n",
    "    folium.Marker(\n",
    "        location=[price_head.iloc[0]['Latitud_partida'],price_head.iloc[0]['Longitud_partida']],\n",
    "        popup=popup,\n",
    "        icon=folium.Icon(color=\"lightgray\",  icon=\"home\"),\n",
    ").add_to(mapa_loop)  \n",
    "    return mapa_loop\n",
    "    \n",
    "ubi_gasolinera(price_head)\n",
    "ubi_actual(price_head)"
   ]
  },
  {
   "cell_type": "code",
   "execution_count": 72,
   "id": "cb4735ec",
   "metadata": {},
   "outputs": [
    {
     "name": "stderr",
     "output_type": "stream",
     "text": [
      "2022-04-23 19:19:34.832 Using categorical units to plot a list of strings that are all parsable as floats or dates. If these strings should be plotted as numbers, cast to the appropriate data type before plotting.\n",
      "2022-04-23 19:19:34.834 Using categorical units to plot a list of strings that are all parsable as floats or dates. If these strings should be plotted as numbers, cast to the appropriate data type before plotting.\n",
      "2022-04-23 19:19:34.837 Using categorical units to plot a list of strings that are all parsable as floats or dates. If these strings should be plotted as numbers, cast to the appropriate data type before plotting.\n",
      "2022-04-23 19:19:34.840 Using categorical units to plot a list of strings that are all parsable as floats or dates. If these strings should be plotted as numbers, cast to the appropriate data type before plotting.\n"
     ]
    },
    {
     "data": {
      "image/png": "[encoded data removed]",
      "text/plain": [
       "<Figure size 936x360 with 1 Axes>"
      ]
     },
     "metadata": {
      "needs_background": "light"
     },
     "output_type": "display_data"
    }
   ],
   "source": [
    "df_grafico=[]\n",
    "direccion_gasolineras=list(price_head['Dirección'].unique())\n",
    "for i in direccion_gasolineras:\n",
    "    df_grafico.append(df_acum[df_acum.Dirección.isin([i])])\n",
    "df_grafico[0]\n",
    "\n",
    "fig, ax = plt.subplots(nrows=1, ncols=1, figsize=(13,5))\n",
    "x= df_grafico[0]['Fecha de extracción']\n",
    "y= df_grafico[0] ['Precio gasolina 95 E5'].sort_values()\n",
    "\n",
    "ax.plot(x,y)\n",
    "plt.show()\n",
    "fig.savefig(\"my_plot_name.png\")"
   ]
  },
  {
   "cell_type": "code",
   "execution_count": null,
   "id": "a3f492a8",
   "metadata": {},
   "outputs": [],
   "source": []
  },
  {
   "cell_type": "code",
   "execution_count": 57,
   "id": "d8244448",
   "metadata": {},
   "outputs": [
    {
     "data": {
      "text/plain": [
       "DeltaGenerator(_root_container=0, _provided_cursor=None, _parent=None, _block_type=None, _form_data=None)"
      ]
     },
     "execution_count": 57,
     "metadata": {},
     "output_type": "execute_result"
    }
   ],
   "source": [
    "st.title('Map of Gas')"
   ]
  },
  {
   "cell_type": "code",
   "execution_count": 58,
   "id": "9d320b25",
   "metadata": {},
   "outputs": [
    {
     "data": {
      "text/plain": [
       "DeltaGenerator(_root_container=0, _provided_cursor=None, _parent=None, _block_type=None, _form_data=None)"
      ]
     },
     "execution_count": 58,
     "metadata": {},
     "output_type": "execute_result"
    }
   ],
   "source": [
    "folium_static(mapa_loop)"
   ]
  },
  {
   "cell_type": "code",
   "execution_count": 56,
   "id": "e0ce354e",
   "metadata": {},
   "outputs": [
    {
     "ename": "SyntaxError",
     "evalue": "invalid syntax (494728032.py, line 1)",
     "output_type": "error",
     "traceback": [
      "\u001b[0;36m  File \u001b[0;32m\"/var/folders/v0/ywqslh_51dx3jnpnjr05wgsr0000gn/T/ipykernel_31134/494728032.py\"\u001b[0;36m, line \u001b[0;32m1\u001b[0m\n\u001b[0;31m    st.run mapa_loop.py\u001b[0m\n\u001b[0m                   ^\u001b[0m\n\u001b[0;31mSyntaxError\u001b[0m\u001b[0;31m:\u001b[0m invalid syntax\n"
     ]
    }
   ],
   "source": [
    "mapa_loop.py"
   ]
  },
  {
   "cell_type": "code",
   "execution_count": null,
   "id": "83cf7b97",
   "metadata": {},
   "outputs": [],
   "source": []
  }
 ],
 "metadata": {
  "kernelspec": {
   "display_name": "Python [conda env:proj-final]",
   "language": "python",
   "name": "conda-env-proj-final-py"
  },
  "language_info": {
   "codemirror_mode": {
    "name": "ipython",
    "version": 3
   },
   "file_extension": ".py",
   "mimetype": "text/x-python",
   "name": "python",
   "nbconvert_exporter": "python",
   "pygments_lexer": "ipython3",
   "version": "3.7.13"
  }
 },
 "nbformat": 4,
 "nbformat_minor": 5
}
