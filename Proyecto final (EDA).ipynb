{
 "cells": [
  {
   "cell_type": "code",
   "execution_count": 10,
   "id": "4a32a5a4",
   "metadata": {},
   "outputs": [],
   "source": [
    "import pandas as pd\n",
    "import requests\n",
    "from datetime import datetime \n",
    "from openpyxl.workbook import Workbook"
   ]
  },
  {
   "cell_type": "code",
   "execution_count": 11,
   "id": "1ca0da0c",
   "metadata": {},
   "outputs": [],
   "source": [
    "encoding=\"utf-8\""
   ]
  },
  {
   "cell_type": "code",
   "execution_count": null,
   "id": "907fdcd9",
   "metadata": {
    "scrolled": true
   },
   "outputs": [],
   "source": [
    "\n",
    "\n",
    "\n"
   ]
  },
  {
   "cell_type": "code",
   "execution_count": 12,
   "id": "bd453a5f",
   "metadata": {},
   "outputs": [],
   "source": [
    "\n",
    "#url = 'https://sedeaplicaciones.minetur.gob.es/ServiciosRESTCarburantes/PreciosCarburantes/EstacionesTerrestres/'\n",
    "#headers = {'user-agent': 'Mozilla/5.0 (Windows NT 6.1; Win64; x64; rv:47.0) Gecko/20100101 Firefox/47.0'}\n",
    "\n",
    "#response = requests.get(url)\n",
    "#data = response.json()\n",
    "\n",
    "#df_new=pd.DataFrame(data['ListaEESSPrecio'])\n",
    "#df_new = df_new.rename(columns={'Longitud (WGS84)':'Longitud','C.P.':'Código postal', 'Remisión': 'Rem.', '% Éster metílico': '% éster metílico','Precio Gasolina 95 E5': 'Precio gasolina 95 E5','Precio Gasolina 95 E5 Premium': 'Precio gasolina 95 E5 Premium', 'Precio Gasolina 98 E5': 'Precio gasolina 98 E5', 'Precio Gasoleo A': 'Precio gasóleo A', 'Precio Gasoleo Premium': 'Precio gasóleo Premium'})\n",
    "#df_new=df_new.drop(columns=['IDProvincia', 'IDEESS', 'IDMunicipio', 'IDCCAA'])\n",
    "\n",
    "#df_new = df_new[['Provincia','Municipio','Localidad','Código postal','Dirección','Longitud', 'Latitud', 'Precio gasolina 95 E5','Precio gasolina 95 E5 Premium', 'Precio gasolina 98 E5', 'Precio gasóleo A', 'Precio gasóleo Premium', 'Rótulo', 'Horario']]\n",
    "#df_new['Fecha de extracción']=datetime.today().strftime('%d-%m-%Y')\n",
    "#df_new = df_new.replace('', 'No disponible')\n",
    "#df_new.to_excel('df_diario.xlsx', index=False)\n"
   ]
  },
  {
   "cell_type": "code",
   "execution_count": 13,
   "id": "515d806b",
   "metadata": {
    "scrolled": true
   },
   "outputs": [],
   "source": [
    "df_acum= pd.read_excel('df_definitivo.xlsx')\n",
    "#PONER DEFINITIVO CUANDO VAYA A AÑADIR DATOS"
   ]
  },
  {
   "cell_type": "code",
   "execution_count": 14,
   "id": "056ae4cf",
   "metadata": {},
   "outputs": [],
   "source": [
    "#llamamos a la API\n",
    "url = 'https://sedeaplicaciones.minetur.gob.es/ServiciosRESTCarburantes/PreciosCarburantes/EstacionesTerrestres/'\n",
    "headers = {'user-agent': 'Mozilla/5.0 (Windows NT 6.1; Win64; x64; rv:47.0) Gecko/20100101 Firefox/47.0'}\n",
    "\n",
    "response = requests.get(url)\n",
    "data = response.json()\n",
    "\n",
    "df_new=pd.DataFrame(data['ListaEESSPrecio'])\n",
    "df_new = df_new.rename(columns={'Longitud (WGS84)':'Longitud','C.P.':'Código postal', 'Remisión': 'Rem.', '% Éster metílico': '% éster metílico','Precio Gasolina 95 E5': 'Precio gasolina 95 E5','Precio Gasolina 95 E5 Premium': 'Precio gasolina 95 E5 Premium', 'Precio Gasolina 98 E5': 'Precio gasolina 98 E5', 'Precio Gasoleo A': 'Precio gasóleo A', 'Precio Gasoleo Premium': 'Precio gasóleo Premium'})\n",
    "df_new=df_new.drop(columns=['IDProvincia', 'IDEESS', 'IDMunicipio', 'IDCCAA'])\n",
    "\n",
    "df_new = df_new[['Provincia','Municipio','Localidad','Código postal','Dirección','Longitud', 'Latitud', 'Precio gasolina 95 E5','Precio gasolina 95 E5 Premium', 'Precio gasolina 98 E5', 'Precio gasóleo A', 'Precio gasóleo Premium', 'Rótulo', 'Horario']]\n",
    "df_new['Fecha de extracción']=datetime.today().strftime('%d-%m-%Y')\n",
    "df_new = df_new.replace('', 'No disponible')\n",
    "dia_hoy=datetime.today().strftime('%d-%m')\n",
    "\n",
    "df_new.to_excel(f\"df_diario {dia_hoy}.xlsx\", index=False)\n",
    "\n",
    "\n"
   ]
  },
  {
   "cell_type": "code",
   "execution_count": 15,
   "id": "30152ec7",
   "metadata": {},
   "outputs": [],
   "source": [
    "#aquí vamos a unir el df acumulado con la api del día\n",
    "union=[df_acum, df_new]\n",
    "df_union=pd.concat(union)\n",
    "\n",
    "df_definitivo = pd.DataFrame(df_union.values, columns=df_new.columns)\n",
    "\n",
    "\n",
    "df_definitivo.to_excel('df_definitivo.xlsx', index=False)\n",
    "\n",
    "dia = datetime.today().strftime('%d-%m')\n",
    "\n",
    "df_definitivo.to_excel(f\"df_copia_seguridad {dia}.xlsx\", index=False)\n",
    "\n"
   ]
  },
  {
   "cell_type": "code",
   "execution_count": null,
   "id": "446ffb77",
   "metadata": {},
   "outputs": [],
   "source": []
  },
  {
   "cell_type": "code",
   "execution_count": null,
   "id": "518b0240",
   "metadata": {},
   "outputs": [],
   "source": []
  }
 ],
 "metadata": {
  "kernelspec": {
   "display_name": "Python [conda env:proj-final]",
   "language": "python",
   "name": "conda-env-proj-final-py"
  },
  "language_info": {
   "codemirror_mode": {
    "name": "ipython",
    "version": 3
   },
   "file_extension": ".py",
   "mimetype": "text/x-python",
   "name": "python",
   "nbconvert_exporter": "python",
   "pygments_lexer": "ipython3",
   "version": "3.7.13"
  }
 },
 "nbformat": 4,
 "nbformat_minor": 5
}
