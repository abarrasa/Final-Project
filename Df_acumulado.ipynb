{
 "cells": [
  {
   "cell_type": "code",
   "execution_count": null,
   "id": "9d499e87",
   "metadata": {},
   "outputs": [],
   "source": [
    "df1 = pd.read_excel('data/preciosEESS_es 04.04.xls', header=None)\n",
    "df1['Fecha de extracción']='04-04-2022'\n",
    "df1 = df1.drop([0, 1,2],axis=0)\n",
    "\n",
    "df2 = pd.read_excel('data/preciosEESS_es 05.04.xls', header=None)\n",
    "df2['Fecha de extracción']='05-04-2022'\n",
    "df2 = df2.drop([0, 1,2, 3],axis=0)\n",
    "\n",
    "df3 = pd.read_excel('data/preciosEESS_es 09.04.xls', header=None)\n",
    "df3['Fecha de extracción']='09-04-2022'\n",
    "df3 = df3.drop([0, 1,2, 3],axis=0)\n",
    "\n",
    "df4 = pd.read_excel('data/preciosEESS_es 10.04.xls', header=None)\n",
    "df4['Fecha de extracción']='10-04-2022'\n",
    "df4 = df4.drop([0, 1,2, 3],axis=0)\n",
    "\n",
    "df5 = pd.read_excel('data/preciosEESS_es 11.04.xls', header=None)\n",
    "df5['Fecha de extracción']='11-04-2022'\n",
    "df5 = df5.drop([0, 1,2, 3],axis=0)\n",
    "\n",
    "df6 = pd.read_excel('data/preciosEESS_es 12.04.xls', header=None)\n",
    "df6['Fecha de extracción']='12-04-2022'\n",
    "df6 = df6.drop([0, 1,2, 3],axis=0)\n",
    "\n",
    "df7 = pd.read_excel('data/preciosEESS_es 14.04.xls', header=None)\n",
    "df7['Fecha de extracción']='14-04-2022'\n",
    "df7 = df7.drop([0, 1,2, 3],axis=0)\n",
    "\n",
    "df8 = pd.read_excel('data/preciosEESS_es 15.04.xls', header=None)\n",
    "df8['Fecha de extracción']='15-04-2022'\n",
    "df8 = df8.drop([0, 1,2, 3],axis=0)\n",
    "\n",
    "total=[df1, df2, df3, df4, df5, df6, df7, df8]\n",
    "\n",
    "df_xsl=pd.concat(total)\n",
    "\n",
    "#df_xsl1 = df_xsl.drop([0, 1, 2],axis=0)\n",
    "headers = df1.iloc[0]\n",
    "df_xsl_final = pd.DataFrame(df_xsl.values[1:], columns=headers)\n",
    "\n",
    "df_xsl_final=df_xsl_final.drop(columns=['Margen', 'Precio biodiésel', 'Precio bioetanol', 'Precio gas natural comprimido','Precio gas natural licuado', 'Precio gases licuados del petróleo','Precio gasóleo B', 'Precio gasóleo C','Precio gasolina 95 E10', 'Precio gasolina 98 E10', 'Precio hidrógeno', 'Rem.', 'Tipo venta', '% bioalcohol', '% éster metílico', 'Toma de datos', 'Tipo servicio'])\n",
    "df_xsl_final.rename(columns={'04-04-2022':'Fecha de extracción'},inplace=True)\n",
    "\n",
    "df_xsl_final.fillna('No disponible', inplace=True)\n",
    "df_xsl_final.to_excel('df_acumulado.xlsx', index=False)\n"
   ]
  }
 ],
 "metadata": {
  "kernelspec": {
   "display_name": "Python [conda env:proj-final]",
   "language": "python",
   "name": "conda-env-proj-final-py"
  },
  "language_info": {
   "codemirror_mode": {
    "name": "ipython",
    "version": 3
   },
   "file_extension": ".py",
   "mimetype": "text/x-python",
   "name": "python",
   "nbconvert_exporter": "python",
   "pygments_lexer": "ipython3",
   "version": "3.7.13"
  }
 },
 "nbformat": 4,
 "nbformat_minor": 5
}
